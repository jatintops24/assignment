{
 "cells": [
  {
   "cell_type": "code",
   "execution_count": null,
   "id": "6fb3fda8-a9c4-4cfa-80f2-813f5662c0f6",
   "metadata": {},
   "outputs": [],
   "source": [
    "# INTRODUCTION TO PYTHON "
   ]
  },
  {
   "cell_type": "code",
   "execution_count": null,
   "id": "9a48c623-1d18-46ce-adb1-0c2b5ee29912",
   "metadata": {},
   "outputs": [],
   "source": [
    "# 1) What are the types of Applications? \n",
    "\n",
    "\"\"\"\n",
    "-> Types of Application.\n",
    "1) Web Applications\n",
    "2) Mobile Application\n",
    "3) Desktop Application\n",
    "4) Gaming Application\n",
    "5) Enterprice Application\n",
    "\n",
    "\"\"\"\n"
   ]
  },
  {
   "cell_type": "code",
   "execution_count": null,
   "id": "13c6afe9-f4ba-46bb-b927-2d1b17ddb046",
   "metadata": {},
   "outputs": [],
   "source": [
    "# 2) What is programing? \n",
    "\n",
    "\"\"\"\n",
    "->Programming is the process of giving instructions to a computer to perform specific tasks. Just like you tell someone \n",
    "what to do step by step, programming involves writing these steps in a language that computers can understand, \n",
    "called a \"programming language.\n",
    "\n",
    "\"\"\""
   ]
  },
  {
   "cell_type": "code",
   "execution_count": null,
   "id": "5732826f-0b90-48e2-b510-a394c41c79bf",
   "metadata": {},
   "outputs": [],
   "source": [
    "# 3) What is Python? \n",
    "\n",
    "\"\"\"\n",
    "Python is a programming language that is easy to read, write, and understand. It’s like giving instructions to a computer \n",
    "in a way that is simple and clear.\n",
    "\"\"\""
   ]
  },
  {
   "cell_type": "code",
   "execution_count": 12,
   "id": "cc97acb8-a4e6-4c27-8ee7-853e7c083587",
   "metadata": {},
   "outputs": [
    {
     "name": "stdout",
     "output_type": "stream",
     "text": [
      "The number is Positive.\n"
     ]
    }
   ],
   "source": [
    "# 4) Write a Python program to check if a number is positive, negative or zero. \n",
    "\n",
    "No = 1\n",
    "\n",
    "if No > 0:\n",
    "    print(\"The number is Positive.\")\n",
    "elif No < 0:\n",
    "    print(\"The number is negative.\")\n",
    "else:\n",
    "    print(\"The number is zero.\")\n"
   ]
  },
  {
   "cell_type": "code",
   "execution_count": 14,
   "id": "038bac51-a2e7-4eac-91b3-402743afc90c",
   "metadata": {},
   "outputs": [
    {
     "name": "stdin",
     "output_type": "stream",
     "text": [
      "Enter a number:  3\n"
     ]
    },
    {
     "name": "stdout",
     "output_type": "stream",
     "text": [
      "The factorial of 3 is 6.\n"
     ]
    }
   ],
   "source": [
    "# 5) Write a Python program to get the Factorial number of given numbers. \n",
    "\n",
    "number = int(input(\"Enter a number: \"))\n",
    "factorial = 1\n",
    "if number < 0:\n",
    "    print(\"Factorial does not exist for negative numbers.\")\n",
    "elif number == 0:\n",
    "    print(\"The factorial of 0 is 1.\")\n",
    "else:\n",
    "    for i in range(1, number + 1):\n",
    "        factorial *= i\n",
    "print(f\"The factorial of {number} is {factorial}.\")"
   ]
  },
  {
   "cell_type": "code",
   "execution_count": 16,
   "id": "dc4d16ee-e4dd-44d9-af23-9ba3af1a6274",
   "metadata": {},
   "outputs": [
    {
     "name": "stdin",
     "output_type": "stream",
     "text": [
      "Enter the number of terms for the Fibonacci series:  4\n"
     ]
    },
    {
     "name": "stdout",
     "output_type": "stream",
     "text": [
      "Fibonacci series:\n",
      "0 1 1 2 "
     ]
    }
   ],
   "source": [
    "# 6) Write a Python program to get the Fibonacci series of given range. \n",
    "\n",
    "n = int(input(\"Enter the number of terms for the Fibonacci series: \"))\n",
    "a, b = 0, 1\n",
    "print(\"Fibonacci series:\")\n",
    "for i in range(n):\n",
    "    print(a, end=\" \")\n",
    "    a, b = b, a + b"
   ]
  },
  {
   "cell_type": "code",
   "execution_count": null,
   "id": "d29d139d-2f25-4897-ac0f-ccb4deee3f70",
   "metadata": {},
   "outputs": [],
   "source": [
    "# 7) How memory is managed in Python? \n",
    "\n",
    "\"\"\"\n",
    "Memory in Python is managed automatically through reference counting and garbage collection,\n",
    "which clean up unused objects. Python divides memory into stack (for temporary variables) and heap\n",
    "(for objects). It also optimizes memory by reusing small, common objects like integers and strings.\n",
    "\"\"\"\n"
   ]
  },
  {
   "cell_type": "code",
   "execution_count": null,
   "id": "c30b9b28-c1b4-4187-902a-49518797d0b8",
   "metadata": {},
   "outputs": [],
   "source": [
    "# 8) What is the purpose continuing statement in python? \n",
    "\n",
    "\"\"\"\n",
    "\n",
    "The continue statement in Python is used to skip the current iteration of a loop and move to the next one. \n",
    "It is helpful when you want to avoid running certain code for specific conditions. For example.\n",
    "\n",
    "\"\"\""
   ]
  },
  {
   "cell_type": "code",
   "execution_count": 18,
   "id": "64cb49d0-6c53-4e9f-b06b-c61398e1233b",
   "metadata": {},
   "outputs": [
    {
     "name": "stdin",
     "output_type": "stream",
     "text": [
      "Enter first num : 4\n",
      "Enter second num : 2\n"
     ]
    },
    {
     "name": "stdout",
     "output_type": "stream",
     "text": [
      "value before swaping : 4 2\n",
      "after swap: 2 4\n"
     ]
    }
   ],
   "source": [
    "# 9) Write python program that swap two number with temp variable and without temp variable\n",
    "\n",
    "a = int(input(\"Enter first num :\"))\n",
    "b = int(input(\"Enter second num :\"))\n",
    "print(\"value before swaping :\",a,b)\n",
    "a,b = b,a\n",
    "print(\"after swap:\",a,b)\n"
   ]
  },
  {
   "cell_type": "code",
   "execution_count": 24,
   "id": "380a0dca-3964-4df4-9ab8-99d8e9a5dda9",
   "metadata": {},
   "outputs": [
    {
     "name": "stdin",
     "output_type": "stream",
     "text": [
      "enter a number : 4\n"
     ]
    },
    {
     "name": "stdout",
     "output_type": "stream",
     "text": [
      "even Number: 4\n"
     ]
    }
   ],
   "source": [
    "# 10) Write a Python program to find whether a given number is even or odd, print out an appropriate message to the user. \n",
    "num = int(input(\"enter a number :\"))\n",
    "if num % 2==0:\n",
    "    print(\"even Number:\",num)\n",
    "else:\n",
    "    print(\"odd number:\",num)"
   ]
  },
  {
   "cell_type": "code",
   "execution_count": 32,
   "id": "6b1f1008-119a-4b71-ae02-f2c82d3908aa",
   "metadata": {},
   "outputs": [
    {
     "name": "stdin",
     "output_type": "stream",
     "text": [
      "Enter a letter a\n"
     ]
    },
    {
     "name": "stdout",
     "output_type": "stream",
     "text": [
      "Passed a vowel letter : a\n"
     ]
    }
   ],
   "source": [
    "# 11) Write a Python program to test whether a passed letter is a vowel or nott\n",
    "\n",
    "letter = input(\"Enter a letter\")\n",
    "if letter in 'aeiouAEIOU':\n",
    "    print(\"Passed a vowel letter :\",letter)\n",
    "else:\n",
    "    print(\"not a vowel letter\")"
   ]
  },
  {
   "cell_type": "code",
   "execution_count": 34,
   "id": "7c1bc34b-a73a-4acc-8d09-69814829ab39",
   "metadata": {},
   "outputs": [
    {
     "name": "stdin",
     "output_type": "stream",
     "text": [
      "Enter a letter n\n"
     ]
    },
    {
     "name": "stdout",
     "output_type": "stream",
     "text": [
      "not a vowel letter\n"
     ]
    }
   ],
   "source": [
    "letter = input(\"Enter a letter\")\n",
    "if letter in 'aeiouAEIOU':\n",
    "    print(\"Passed a vowel letter :\",letter)\n",
    "else:\n",
    "    print(\"not a vowel letter\")"
   ]
  },
  {
   "cell_type": "code",
   "execution_count": 40,
   "id": "11eb3683-68f4-4978-8baa-102a836ac3f2",
   "metadata": {},
   "outputs": [
    {
     "name": "stdout",
     "output_type": "stream",
     "text": [
      "0\n",
      "0\n",
      "6\n"
     ]
    }
   ],
   "source": [
    "# 12) Write a Python program to sum of three given integers. However, if two values are equal sum will be zero.\n",
    "# 3 3 3 = 0\n",
    "# 3 2 3 = 0\n",
    "# 1 2 3 = 12\n",
    "def sum(a,b,c):\n",
    "    if a==b or b==c or c==a:\n",
    "        sum = 0\n",
    "    else:\n",
    "        sum = a + b + c\n",
    "    return sum\n",
    "print(sum(3,3,3))\n",
    "print(sum(3,2,3))\n",
    "print(sum(1,2,3))"
   ]
  },
  {
   "cell_type": "code",
   "execution_count": 53,
   "id": "37b26139-2f51-413c-9659-d9f22614a826",
   "metadata": {},
   "outputs": [
    {
     "name": "stdout",
     "output_type": "stream",
     "text": [
      "False\n",
      "True\n",
      "True\n",
      "False\n"
     ]
    }
   ],
   "source": [
    "# 13) Write a Python program that will return true if the two given integer values are equal or their sum or difference is 5.\n",
    "def test(j,k):\n",
    "    if  j == k or abs(j-k) == 5 or (j+k) == 5: \n",
    "        return True\n",
    "    else:\n",
    "        return False\n",
    "print(test(3,6))\n",
    "print(test(8,8))\n",
    "print(test(3,2))\n",
    "print(test(11,25))\n"
   ]
  },
  {
   "cell_type": "code",
   "execution_count": 55,
   "id": "db9b4740-3eeb-4fc9-a372-3c2f211679a0",
   "metadata": {},
   "outputs": [
    {
     "name": "stdin",
     "output_type": "stream",
     "text": [
      "Enter a Number : 10\n"
     ]
    },
    {
     "name": "stdout",
     "output_type": "stream",
     "text": [
      "sum is : 55.0\n"
     ]
    }
   ],
   "source": [
    "# 14) Write a python program to sum of the first n positive integers.\n",
    "n = int(input(\"Enter a Number :\"))\n",
    "sum = (n * (n+1)) /2\n",
    "\n",
    "print(\"sum is :\",sum)"
   ]
  },
  {
   "cell_type": "code",
   "execution_count": 71,
   "id": "113c3991-6e53-44f3-96eb-aa6ef14961c2",
   "metadata": {},
   "outputs": [
    {
     "name": "stdin",
     "output_type": "stream",
     "text": [
      "enter a String : jay shri ram\n"
     ]
    },
    {
     "name": "stdout",
     "output_type": "stream",
     "text": [
      "Length of string is : 12\n"
     ]
    }
   ],
   "source": [
    "# 15) Write a Python program to calculate the length of a string. \n",
    "\n",
    "str = input(\"enter a String :\")\n",
    "length = 0\n",
    "for _ in str:\n",
    "    length += 1\n",
    "print(\"Length of string is :\",length)\n"
   ]
  },
  {
   "cell_type": "code",
   "execution_count": 73,
   "id": "4d92a5fa-2736-4985-ad3b-b1e2cda680f5",
   "metadata": {},
   "outputs": [
    {
     "name": "stdin",
     "output_type": "stream",
     "text": [
      "Enter a string : jay shri ram\n"
     ]
    },
    {
     "name": "stdout",
     "output_type": "stream",
     "text": [
      "Count of characters in a string is : 12\n"
     ]
    }
   ],
   "source": [
    "# 16) Write a Python program to count the number of characters (character frequency) in a string.\n",
    "text = input(\"Enter a string :\")\n",
    "index = 0\n",
    "for _ in text:\n",
    "    index += 1\n",
    "print(\"Count of characters in a string is :\", index)"
   ]
  },
  {
   "cell_type": "code",
   "execution_count": null,
   "id": "4b9d4983-d204-4938-9fda-970f2e75685a",
   "metadata": {},
   "outputs": [],
   "source": [
    "# 17) What are negative indexes and why are they used?\n",
    "\"\"\"\n",
    "Negative indexes in Python let you access elements from the end of a list or string. \n",
    "-1 gives the last element, -2 gives the second-to-last, and so on.\n",
    "\"\"\"\n",
    "\"\"\"\n",
    "It makes accessing elements from the end easier.\n",
    "No need to count the length of the sequence.\n",
    "\"\"\"\n"
   ]
  },
  {
   "cell_type": "code",
   "execution_count": 75,
   "id": "fcc9fa25-2d18-48d1-a589-440e365222cb",
   "metadata": {},
   "outputs": [
    {
     "name": "stdout",
     "output_type": "stream",
     "text": [
      "2\n"
     ]
    }
   ],
   "source": [
    "# 18) Write a Python program to count occurrences of a substring in a string.\n",
    "\n",
    "string = \"hello jatin, hello rathod\"\n",
    "substring = \"hello\"\n",
    "count = string.count(substring)\n",
    "print(count)"
   ]
  },
  {
   "cell_type": "code",
   "execution_count": 79,
   "id": "929750b1-33f2-40ff-8996-48c6366752d3",
   "metadata": {},
   "outputs": [
    {
     "name": "stdout",
     "output_type": "stream",
     "text": [
      "{'jaimin': 2, 'how': 1, 'are': 1, 'you,': 1}\n"
     ]
    }
   ],
   "source": [
    "# 19) Write a Python program to count the occurrences of each word in a  given sentence.\n",
    "sentence = \"jatin how are you, jatin\"\n",
    "words = sentence.split()\n",
    "word_count = {}\n",
    "\n",
    "for word in words:\n",
    "    word_count[word] = word_count.get(word, 0) + 1\n",
    "\n",
    "print(word_count)"
   ]
  },
  {
   "cell_type": "code",
   "execution_count": 1,
   "id": "64a45d0f-8357-40f7-bc53-6c92e7631b5c",
   "metadata": {},
   "outputs": [
    {
     "name": "stdout",
     "output_type": "stream",
     "text": [
      "ratin jathod\n"
     ]
    }
   ],
   "source": [
    "# 20) Write a Python program to get a single string from two given strings, separated by a space and swap the first two characters of each string. \n",
    "a1 = \"jatin\"\n",
    "a2 = \"rathod\"\n",
    "a1_swapped = a2[:2] + a1[2:]\n",
    "a2_swapped = a1[:2] + a2[2:]\n",
    "result = a1_swapped + \" \" + a2_swapped\n",
    "print(result)"
   ]
  },
  {
   "cell_type": "code",
   "execution_count": 2,
   "id": "0d8aeae5-2f0c-430b-9164-94ac9337a778",
   "metadata": {},
   "outputs": [
    {
     "name": "stdout",
     "output_type": "stream",
     "text": [
      "playin\n"
     ]
    }
   ],
   "source": [
    "# 21) Write a Python program to add 'in' at the end of a given string \n",
    "#(length should be at least 3)If the given string already ends with 'ing' then add 'ly' \n",
    "#instead if the string length of the given string is less than 3, leave it unchanged. \n",
    "\n",
    "A = \"play\"\n",
    "if len(A) >= 3:\n",
    "    if A.endswith(\"ing\"):\n",
    "        A += \"ly\"\n",
    "    else:\n",
    "        A += \"in\"\n",
    "print(A)"
   ]
  },
  {
   "cell_type": "code",
   "execution_count": 101,
   "id": "c276d646-4b1f-49db-908a-c67f30edcb4d",
   "metadata": {},
   "outputs": [
    {
     "name": "stdout",
     "output_type": "stream",
     "text": [
      "dcba\n"
     ]
    }
   ],
   "source": [
    "# 22) Write a Python function to reverses a string if its length is a multiple of 4. \n",
    "\n",
    "def rev(string):\n",
    "    if len(string) % 4 == 0:\n",
    "        return string[::-1]\n",
    "    return string\n",
    "result = rev(\"abcd\")\n",
    "print(result) "
   ]
  },
  {
   "cell_type": "code",
   "execution_count": 107,
   "id": "933bd4a6-493f-428b-9772-32f67ff4b07c",
   "metadata": {},
   "outputs": [
    {
     "name": "stdout",
     "output_type": "stream",
     "text": [
      "koti\n"
     ]
    }
   ],
   "source": [
    "\"\"\" 23) Write a Python program to get a string made of the first 2 and the last \n",
    "2 chars from a given a string. If the string length is less than 2, return \n",
    "instead of the empty string. \"\"\"\n",
    "\n",
    "def first(string):\n",
    "    if len(string) < 2:\n",
    "        return \"\"\n",
    "    return string[:2] + string[-2:]\n",
    "result = first(\"rathod\")\n",
    "print(result)"
   ]
  },
  {
   "cell_type": "code",
   "execution_count": 141,
   "id": "4e7637b2-7cc1-41db-b57d-7570090ad16a",
   "metadata": {},
   "outputs": [
    {
     "name": "stdout",
     "output_type": "stream",
     "text": [
      "hello good morning, how are you\n"
     ]
    },
    {
     "name": "stdin",
     "output_type": "stream",
     "text": [
      "enter string to insert:  jaimin\n"
     ]
    },
    {
     "data": {
      "text/plain": [
       "'Hello good morning jaimin, how are you'"
      ]
     },
     "execution_count": 141,
     "metadata": {},
     "output_type": "execute_result"
    }
   ],
   "source": [
    "# 24) Write a Python function to insert a string in the middle of a string.\n",
    "def mid(user):\n",
    "    return(f\"Hello good morning {user}, how are you\")\n",
    "a = \"hello good morning, how are you\"\n",
    "print(a)\n",
    "main = input(\"enter string to insert: \")\n",
    "mid(main)"
   ]
  },
  {
   "cell_type": "code",
   "execution_count": null,
   "id": "e610ca3f-0ed1-4703-987b-0a5b66dab474",
   "metadata": {},
   "outputs": [],
   "source": [
    "# 25) What is List? How will you reverse a list? \n",
    "\n",
    "\" A list in Python is an ordered collection of elements that can store multiple values.\"\n",
    "\n",
    "\" To reverse a list, you can use slicing: reversed_list = my_list[::-1], or modify the list in place using my_list.reverse().\""
   ]
  },
  {
   "cell_type": "code",
   "execution_count": null,
   "id": "f505a518-cf2e-49b6-9c6a-dffca952b676",
   "metadata": {},
   "outputs": [],
   "source": [
    "# 26) How will you remove last object from a list? \n",
    "\n",
    "\" To remove the last object from a list in Python, you can use the pop() method:\""
   ]
  },
  {
   "cell_type": "code",
   "execution_count": 143,
   "id": "a98d51e9-b58b-4056-8954-d07b9e2a32bf",
   "metadata": {},
   "outputs": [
    {
     "name": "stdout",
     "output_type": "stream",
     "text": [
      "33\n"
     ]
    }
   ],
   "source": [
    "# 27) Suppose list1 is [2, 33, 222, 14, and 25], what is list1 [1]?\n",
    "list1 = [2, 33, 222, 14, 25]\n",
    "print(list1[1])"
   ]
  },
  {
   "cell_type": "code",
   "execution_count": null,
   "id": "8e65b913-9487-4353-8b9b-e8f3c6ec5375",
   "metadata": {},
   "outputs": [],
   "source": [
    "#28) Differentiate between append () and extend () methods?\n",
    "\"\"\"\n",
    "append() adds a single element to the end of a list.\n",
    "extend() adds multiple elements (from another iterable) to the end of the list.\n",
    "In short, append() adds one item, while extend() adds a collection of items.\n",
    "\"\"\""
   ]
  },
  {
   "cell_type": "code",
   "execution_count": 118,
   "id": "c271071a-ebbf-43f0-a313-a40b4bff8216",
   "metadata": {},
   "outputs": [
    {
     "name": "stdout",
     "output_type": "stream",
     "text": [
      "Largest number: 25\n",
      "Smallest number: 5\n",
      "Sum of all numbers: 75\n"
     ]
    }
   ],
   "source": [
    "# 29) Write a Python function to get the largest number, smallest num and sum of all from a list.\n",
    "\n",
    "def list_summary(numbers):\n",
    "    \n",
    "    largest = max(numbers)\n",
    "    smallest = min(numbers)\n",
    "    total = sum(numbers)\n",
    "    \n",
    "    print(f\"Largest number: {largest}\")\n",
    "    print(f\"Smallest number: {smallest}\")\n",
    "    print(f\"Sum of all numbers: {total}\")\n",
    "\n",
    "my_list = [5, 10, 15, 20, 25]\n",
    "\n",
    "list_summary(my_list)\n"
   ]
  },
  {
   "cell_type": "code",
   "execution_count": null,
   "id": "dce8dfe1-fd53-4dff-b047-ce08bb35f938",
   "metadata": {},
   "outputs": [],
   "source": [
    "# 30) How will you compare two lists? \n",
    "\"\"\"\n",
    "1) Equality operator (==)\n",
    "2) Using != \n",
    "3) Using set() \n",
    "4) Using loops or list comprehension:\n",
    "\"\"\""
   ]
  },
  {
   "cell_type": "code",
   "execution_count": 161,
   "id": "2aa02fd6-5e43-42a1-a13f-9c63f9756209",
   "metadata": {},
   "outputs": [
    {
     "name": "stdout",
     "output_type": "stream",
     "text": [
      "Count of strings where first and last characters are same: 3\n"
     ]
    }
   ],
   "source": [
    "\"\"\" 31) Write a Python program to count the number of strings where the string  \n",
    "length is 2 or more and the first and last character are same from a given list \n",
    "of strings.\"\"\"\n",
    "\n",
    "# List of strings\n",
    "strings = [\"abc\", \"xyx\", \"aba\", \"a\", \"bb\", \"xyz\"]\n",
    "\n",
    "# Initialize a counter\n",
    "count = 0\n",
    "\n",
    "# Loop through each string in the list\n",
    "for string in strings:\n",
    "    # Check if the string length is 2 or more and first and last character are the same\n",
    "    if len(string) >= 2 and string[0] == string[-1]:\n",
    "        count += 1\n",
    "\n",
    "# Print the result\n",
    "print(\"Count of strings where first and last characters are same:\", count)"
   ]
  },
  {
   "cell_type": "code",
   "execution_count": 1,
   "id": "a39c75f4-447c-408c-aa1e-4d77637aa8fc",
   "metadata": {},
   "outputs": [
    {
     "name": "stdout",
     "output_type": "stream",
     "text": [
      "List without duplicates: [1, 2, 3, 4, 5]\n"
     ]
    }
   ],
   "source": [
    "# 32) Write a Python program to remove duplicates from a list. \n",
    "\n",
    "\n",
    "my_list = [1, 2, 2, 3, 4, 4, 5]\n",
    "\n",
    "unique_list = list(set(my_list))\n",
    "\n",
    "print(\"List without duplicates:\", unique_list)"
   ]
  },
  {
   "cell_type": "code",
   "execution_count": 7,
   "id": "92ff12f9-0930-4c41-bbdd-ed4a4b7b131b",
   "metadata": {},
   "outputs": [
    {
     "name": "stdout",
     "output_type": "stream",
     "text": [
      "The list is not empty.\n"
     ]
    }
   ],
   "source": [
    "# 33) Write a Python program to check a list is empty or not. \n",
    "A = [5]\n",
    "\n",
    "if not A:\n",
    "    print(\"The list is empty.\")\n",
    "else:\n",
    "    print(\"The list is not empty.\")"
   ]
  },
  {
   "cell_type": "code",
   "execution_count": 17,
   "id": "b3763f67-ea1f-4ba6-9680-1aaeb81842e0",
   "metadata": {},
   "outputs": [
    {
     "name": "stdout",
     "output_type": "stream",
     "text": [
      "The lists have at least one common member.\n"
     ]
    }
   ],
   "source": [
    "# 34) Write a Python function that takes two lists and returns true if they have at least one common member. \n",
    "\n",
    "def jk(A1, Ab2):\n",
    "    for item in A1:\n",
    "        if item in A2:\n",
    "            return True\n",
    "    return False\n",
    "\n",
    "A1 = [1, 2, 3]\n",
    "A2 = [4, 5, 3]\n",
    "\n",
    "if jk(A1, A2):\n",
    "    print(\"The lists have at least one common member.\")\n",
    "else:\n",
    "    print(\"The lists have no common members.\")"
   ]
  },
  {
   "cell_type": "code",
   "execution_count": 3,
   "id": "967f00ff-1871-4228-8e86-c203e3849ad3",
   "metadata": {},
   "outputs": [
    {
     "name": "stdout",
     "output_type": "stream",
     "text": [
      "[1, 4, 9, 16, 25, 676, 729, 784, 841, 900]\n"
     ]
    }
   ],
   "source": [
    "# 35) Write a Python program to generate and print a list of first and last 5 elements where the values are square of numbers between 1 and 30. \"\n",
    "\n",
    "def generate_squares():\n",
    "    # Create a list of squares of numbers from 1 to 30\n",
    "    squares = [x**2 for x in range(1, 31)]\n",
    "    \n",
    "    result = squares[:5] + squares[-5:]\n",
    "    \n",
    "    return result\n",
    "\n",
    "print(generate_squares())"
   ]
  },
  {
   "cell_type": "code",
   "execution_count": 5,
   "id": "aa8c00f6-d951-4a05-8f89-0b1824224050",
   "metadata": {},
   "outputs": [
    {
     "name": "stdout",
     "output_type": "stream",
     "text": [
      "[1, 2, 3, 4, 5]\n"
     ]
    }
   ],
   "source": [
    "# 36) Write a Python function that takes a list and returns a new list with unique elements of the first list. \n",
    "\n",
    "def get_unique_elements(input_list):\n",
    "    unique_list = []\n",
    "    for item in input_list:\n",
    "        if item not in unique_list:\n",
    "            unique_list.append(item)\n",
    "    return unique_list\n",
    "\n",
    "original_list = [1, 2, 2, 3, 4, 4, 5]\n",
    "print(get_unique_elements(original_list))"
   ]
  },
  {
   "cell_type": "code",
   "execution_count": 3,
   "id": "cb1d7ed1-d6b7-4571-a8f1-945c55a1b11e",
   "metadata": {},
   "outputs": [
    {
     "name": "stdout",
     "output_type": "stream",
     "text": [
      "jatin\n"
     ]
    }
   ],
   "source": [
    "# 37)  Write a Python program to convert a list of characters into a string. \n",
    "\n",
    "def convert_to_string(char_list):\n",
    "    return ''.join(char_list)\n",
    "\n",
    "char_list = ['j', 'a', 't', 'i', 'n']\n",
    "print(convert_to_string(char_list))"
   ]
  },
  {
   "cell_type": "code",
   "execution_count": 14,
   "id": "7d8ec3a9-1d6d-4431-9e1a-d24ee8e3c5d7",
   "metadata": {},
   "outputs": [
    {
     "name": "stdout",
     "output_type": "stream",
     "text": [
      "2\n"
     ]
    }
   ],
   "source": [
    "# 38) Write a Python program to select an item randomly from a list.\n",
    "\n",
    "import random\n",
    "\n",
    "def A(input_list):\n",
    "    return random.choice(input_list)\n",
    "\n",
    "my_list = [1, 2, 3, 4, 5]\n",
    "print(A(my_list))"
   ]
  },
  {
   "cell_type": "code",
   "execution_count": 18,
   "id": "3416386a-fcc0-4ea6-b4d0-529861c4f96f",
   "metadata": {},
   "outputs": [
    {
     "name": "stdout",
     "output_type": "stream",
     "text": [
      "2\n"
     ]
    }
   ],
   "source": [
    "# 39) Write a Python program to find the second smallest number in a list. \n",
    "\n",
    "def J(numbers):\n",
    "    sorted_numbers = sorted(set(numbers))\n",
    "    if len(sorted_numbers) < 2:\n",
    "        return \"List does not have a second smallest number.\"\n",
    "    return sorted_numbers[1]\n",
    "\n",
    "my_list = [4, 1, 3, 2, 5, 1]\n",
    "print(J(my_list))"
   ]
  },
  {
   "cell_type": "code",
   "execution_count": 20,
   "id": "4d5dcef3-9564-427d-a455-dfd8dc3d580c",
   "metadata": {},
   "outputs": [
    {
     "name": "stdout",
     "output_type": "stream",
     "text": [
      "[1, 2, 3, 4, 5]\n"
     ]
    }
   ],
   "source": [
    "# 40) Write a Python program to get unique values from a list \n",
    "\n",
    "def get_unique_values(input_list):\n",
    "    return list(set(input_list))\n",
    "\n",
    "my_list = [1, 2, 2, 3, 4, 4, 5]\n",
    "print(get_unique_values(my_list))"
   ]
  },
  {
   "cell_type": "code",
   "execution_count": 24,
   "id": "bd78c01e-8c5f-43a7-b421-cf2931af2831",
   "metadata": {},
   "outputs": [
    {
     "name": "stdout",
     "output_type": "stream",
     "text": [
      "False\n"
     ]
    }
   ],
   "source": [
    "# 41) Write a Python program to check whether a list contains a sub list.\n",
    "\n",
    "def contains_sublist(main_list, sub_list):\n",
    "    return all(item in main_list for item in sub_list)\n",
    "\n",
    "main_list = [1, 2, 3, 4, 5]\n",
    "sub_list = [2, 6]\n",
    "\n",
    "print(contains_sublist(main_list, sub_list))"
   ]
  },
  {
   "cell_type": "code",
   "execution_count": 26,
   "id": "222f81f1-6f4e-4a44-90d9-b62972a99322",
   "metadata": {},
   "outputs": [
    {
     "name": "stdout",
     "output_type": "stream",
     "text": [
      "1\n",
      "2\n",
      "3\n"
     ]
    }
   ],
   "source": [
    "# 42) Write a Python program to split a list into different variables. \n",
    "\n",
    "def split_list(input_list):\n",
    "    a, b, c = input_list\n",
    "    return a, b, c\n",
    "\n",
    "my_list = [1, 2, 3]\n",
    "a, b, c = split_list(my_list)\n",
    "print(a) \n",
    "print(b) \n",
    "print(c)"
   ]
  },
  {
   "cell_type": "code",
   "execution_count": null,
   "id": "7ea48fb7-ec3c-4d16-bd2a-e536cf2ef981",
   "metadata": {},
   "outputs": [],
   "source": [
    "# 43) What is tuple? Difference between list and tuple. \n",
    "\n",
    "\"\"\"\n",
    "A tuple is an ordered, immutable collection of elements in Python, defined using parentheses (). \n",
    "Unlike lists, once a tuple is created, its elements cannot be changed.\n",
    "\n",
    "Key Differences Between List and Tuple:\n",
    "\n",
    "1) Mutability: Lists are mutable (can be changed), while tuples are immutable (cannot be changed).\n",
    "2) Syntax: Lists use square brackets [], while tuples use parentheses ().\n",
    "3) Performance: Tuples are faster than lists due to their immutability.\n",
    "\"\"\""
   ]
  },
  {
   "cell_type": "code",
   "execution_count": 28,
   "id": "b04c6530-2554-40f8-a0f9-a4877b7a371e",
   "metadata": {},
   "outputs": [
    {
     "name": "stdout",
     "output_type": "stream",
     "text": [
      "(1, 'hello', 3.14, True)\n"
     ]
    }
   ],
   "source": [
    "# 44) Write a Python program to create a tuple with different data types. \n",
    "\n",
    "my_tuple = (1, \"hello\", 3.14, True)\n",
    "\n",
    "print(my_tuple)"
   ]
  },
  {
   "cell_type": "code",
   "execution_count": 32,
   "id": "6e84d1d9-9a92-4edd-ac1c-de7e329749d6",
   "metadata": {},
   "outputs": [
    {
     "name": "stdout",
     "output_type": "stream",
     "text": [
      "[1, 2, 3]\n",
      "['a', 'b', 'c']\n"
     ]
    }
   ],
   "source": [
    " # 45) Write a Python program to unzip a list of tuples into individual lists. \n",
    "\n",
    "my_list_of_tuples = [(1, 'a'), (2, 'b'), (3, 'c')]\n",
    "\n",
    "list1, list2 = zip(*my_list_of_tuples)\n",
    "\n",
    "print(list(list1))  # Output: [1, 2, 3]\n",
    "print(list(list2)) "
   ]
  },
  {
   "cell_type": "code",
   "execution_count": 34,
   "id": "7e99deae-a67b-4b78-860d-42d91e735343",
   "metadata": {},
   "outputs": [
    {
     "name": "stdout",
     "output_type": "stream",
     "text": [
      "{1: 'a', 2: 'b', 3: 'c'}\n"
     ]
    }
   ],
   "source": [
    "# 46) Write a Python program to convert a list of tuples into a dictionary. \n",
    "\n",
    "my_list_of_tuples = [(1, 'a'), (2, 'b'), (3, 'c')]\n",
    "\n",
    "my_dict = dict(my_list_of_tuples)\n",
    "\n",
    "print(my_dict)"
   ]
  },
  {
   "cell_type": "code",
   "execution_count": 38,
   "id": "aaffd63b-2596-4f8d-affb-797a2aeefbbc",
   "metadata": {},
   "outputs": [
    {
     "name": "stdout",
     "output_type": "stream",
     "text": [
      "{1: 'apple', 2: 'banana', 3: 'cherry'}\n"
     ]
    }
   ],
   "source": [
    "# 47) How will you create a dictionary using tuples in python? \n",
    "\n",
    "tuple_list = [(1, 'apple'), (2, 'banana'), (3, 'cherry')]\n",
    "\n",
    "my_dict = dict(tuple_list)\n",
    "\n",
    "print(my_dict)"
   ]
  },
  {
   "cell_type": "code",
   "execution_count": 40,
   "id": "bb8bb808-8ff8-46c7-94bf-31064cf00906",
   "metadata": {},
   "outputs": [
    {
     "name": "stdout",
     "output_type": "stream",
     "text": [
      "Sorted by value (ascending): {1: 'apple', 3: 'banana', 2: 'cherry', 4: 'date'}\n",
      "Sorted by value (descending): {4: 'date', 2: 'cherry', 3: 'banana', 1: 'apple'}\n"
     ]
    }
   ],
   "source": [
    "# 48) Write a Python script to sort (ascending and descending) a dictionary by value.\n",
    "\n",
    "my_dict = {1: 'apple', 3: 'banana', 2: 'cherry', 4: 'date'}\n",
    "\n",
    "sorted_ascending = sorted(my_dict.items(), key=lambda item: item[1])\n",
    "\n",
    "sorted_descending = sorted(my_dict.items(), key=lambda item: item[1], reverse=True)\n",
    "\n",
    "ascending_dict = dict(sorted_ascending)\n",
    "descending_dict = dict(sorted_descending)\n",
    "\n",
    "print(\"Sorted by value (ascending):\", ascending_dict)\n",
    "print(\"Sorted by value (descending):\", descending_dict)"
   ]
  },
  {
   "cell_type": "code",
   "execution_count": 42,
   "id": "a27d40eb-4237-423c-818a-1d6442c4b4ad",
   "metadata": {},
   "outputs": [
    {
     "name": "stdout",
     "output_type": "stream",
     "text": [
      "{'a': 1, 'b': 2, 'c': 3, 'd': 4, 'e': 5, 'f': 6}\n"
     ]
    }
   ],
   "source": [
    "# 49) Write a Python script to concatenate following dictionaries to create a new one.\n",
    "\n",
    "dict1 = {'a': 1, 'b': 2}\n",
    "dict2 = {'c': 3, 'd': 4}\n",
    "dict3 = {'e': 5, 'f': 6}\n",
    "\n",
    "new_dict = {**dict1, **dict2, **dict3}\n",
    "\n",
    "print(new_dict)"
   ]
  },
  {
   "cell_type": "code",
   "execution_count": 122,
   "id": "4292dce0-63f8-4c27-a4ce-beb4e843545b",
   "metadata": {},
   "outputs": [
    {
     "name": "stdout",
     "output_type": "stream",
     "text": [
      "Yes, the key 'age' exists in the dictionary.\n"
     ]
    }
   ],
   "source": [
    " # 50) Write a Python script to check if a given key already exists in a dictionary. \n",
    "\n",
    "my_dict = {'name': 'jatin', 'age': 24, 'city': 'Ahmedabad'}\n",
    "\n",
    "key = 'age'\n",
    "\n",
    "if key in my_dict:\n",
    "    print(f\"Yes, the key '{key}' exists in the dictionary.\")\n",
    "else:\n",
    "    print(f\"No, the key '{key}' does not exist in the dictionary.\")"
   ]
  },
  {
   "cell_type": "code",
   "execution_count": null,
   "id": "8ddf8a56-ba0e-485e-9cdb-f06e0a8eeb02",
   "metadata": {},
   "outputs": [],
   "source": [
    "# 51)  How Do You Traverse Through a Dictionary Object in Python? \n",
    "\n",
    "\"\"\"\n",
    "To traverse (or iterate) through a dictionary object in Python, you can loop through \n",
    "its components—keys, values, or key-value pairs. Here are the common ways to do this:\n",
    "\n",
    "1. Iterating through Keys:\n",
    "2. Iterating through Values:\n",
    "3. Iterating through Key-Value Pairs:\n",
    "\"\"\""
   ]
  },
  {
   "cell_type": "code",
   "execution_count": 46,
   "id": "24647ed7-f67d-497f-a7eb-1cc6bf4f6e9b",
   "metadata": {},
   "outputs": [
    {
     "name": "stdout",
     "output_type": "stream",
     "text": [
      "The key 'name' exists.\n"
     ]
    }
   ],
   "source": [
    "# 52) How Do You Check the Presence of a Key in A Dictionary? \n",
    "\n",
    "\"\"\"\n",
    "1. Using the in Operator:\n",
    "2. Using the get() Method:\n",
    "3. Using the keys() Method:\n",
    "\"\"\"\n",
    "\n",
    "A = {'name': 'Jatin', 'age': 24}\n",
    "\n",
    "if 'name' in my_dict:\n",
    "    print(\"The key 'name' exists.\")\n",
    "else:\n",
    "    print(\"The key 'name' does not exist.\")"
   ]
  },
  {
   "cell_type": "code",
   "execution_count": 50,
   "id": "f5590539-e851-49ae-8a24-cd67b61dd663",
   "metadata": {},
   "outputs": [
    {
     "name": "stdout",
     "output_type": "stream",
     "text": [
      "{1: 2, 2: 4, 3: 6, 4: 8, 5: 10, 6: 12, 7: 14, 8: 16, 9: 18, 10: 20, 11: 22, 12: 24, 13: 26, 14: 28, 15: 30}\n"
     ]
    }
   ],
   "source": [
    "# 53) Write a Python script to print a dictionary where the keys are numbers between 1 and 15. \n",
    "\n",
    "A= {i: i*2 for i in range(1, 16)}\n",
    "\n",
    "print(A)"
   ]
  },
  {
   "cell_type": "code",
   "execution_count": 52,
   "id": "cd17f47a-9af6-40e7-831d-14da2d1a4692",
   "metadata": {},
   "outputs": [
    {
     "name": "stdout",
     "output_type": "stream",
     "text": [
      "Some keys do not exist in the dictionary.\n"
     ]
    }
   ],
   "source": [
    "# 54) Write a Python program to check multiple keys exists in a dictionary\n",
    "\n",
    "my_dict = {'name': 'Jatin', 'age': 24, 'city': 'Ahmedabad'}\n",
    "\n",
    "keys_to_check = ['name', 'age', 'country']\n",
    "\n",
    "if all(key in my_dict for key in keys_to_check):\n",
    "    print(\"All keys exist in the dictionary.\")\n",
    "else:\n",
    "    print(\"Some keys do not exist in the dictionary.\")"
   ]
  },
  {
   "cell_type": "code",
   "execution_count": 54,
   "id": "e81cb635-8de8-434b-92f3-8ee2c51c54e5",
   "metadata": {},
   "outputs": [
    {
     "name": "stdout",
     "output_type": "stream",
     "text": [
      "{'a': 1, 'b': 2, 'c': 3, 'd': 4}\n"
     ]
    }
   ],
   "source": [
    "# 55) Write a Python script to merge two Python dictionaries \n",
    "\n",
    "A1 = {'a': 1, 'b': 2}\n",
    "A2 = {'c': 3, 'd': 4}\n",
    "\n",
    "merged_dict = A1.copy()  \n",
    "merged_dict.update(A2)  \n",
    "\n",
    "print(merged_dict)"
   ]
  },
  {
   "cell_type": "code",
   "execution_count": 58,
   "id": "ca561250-1372-46d5-a2ff-7f8f5e868f37",
   "metadata": {},
   "outputs": [
    {
     "name": "stdout",
     "output_type": "stream",
     "text": [
      "Counter({'a': 400, 'b': 400, 'd': 400, 'c': 300})\n"
     ]
    }
   ],
   "source": [
    "# 56) Write a Python program to map two lists into a dictionary Sample output: Counter ({'a': 400, 'b': 400,’d’: 400, 'c': 300}).\n",
    "\n",
    "keys = ['a', 'b', 'c', 'd']\n",
    "values = [400, 400, 300, 400]\n",
    "\n",
    "A = dict(zip(keys, values))\n",
    "\n",
    "counter_dict = Counter(A)\n",
    "\n",
    "print(counter_dict)"
   ]
  },
  {
   "cell_type": "code",
   "execution_count": 62,
   "id": "e5e03e96-2387-4587-9270-fe5be72722db",
   "metadata": {},
   "outputs": [
    {
     "name": "stdout",
     "output_type": "stream",
     "text": [
      "Top 3 values: [('c', 50), ('d', 40), ('b', 30)]\n"
     ]
    }
   ],
   "source": [
    "# 57) Write a Python program to find the highest 3 values in a dictionary \n",
    "\n",
    "A = {'a': 10, 'b': 30, 'c': 50, 'd': 40, 'e': 20}\n",
    "\n",
    "sorted_dict = sorted(A.items(), key=lambda item: item[1], reverse=True)\n",
    "\n",
    "top_3 = sorted_dict[:3]\n",
    "\n",
    "print(\"Top 3 values:\", top_3)"
   ]
  },
  {
   "cell_type": "code",
   "execution_count": 64,
   "id": "afb4ad5e-725e-4fcc-842d-b2b2a71a8de8",
   "metadata": {},
   "outputs": [
    {
     "name": "stdout",
     "output_type": "stream",
     "text": [
      "Counter({'item1': 1150, 'item2': 300})\n"
     ]
    }
   ],
   "source": [
    "\"\"\"# 58) Write a Python program to combine values in python list of dictionaries. \n",
    "Sample data: [{'item': 'item1', 'amount': 400}, {'item': 'item2', 'amount': \n",
    "300}, o {'item': 'item1', 'amount': 750}] \n",
    "Expected Output: \n",
    "• Counter ({'item1': 1150, 'item2': 300}) \n",
    "\"\"\"\n",
    "\n",
    "data = [{'item': 'item1', 'amount': 400}, {'item': 'item2', 'amount': 300}, {'item': 'item1', 'amount': 750}]\n",
    "\n",
    "combined_values = Counter()\n",
    "\n",
    "for entry in data:\n",
    "    item = entry['item']  \n",
    "    amount = entry['amount']  \n",
    "    combined_values[item] += amount \n",
    "\n",
    "print(combined_values)"
   ]
  },
  {
   "cell_type": "code",
   "execution_count": 66,
   "id": "14f6f5ff-2e8b-469a-ba19-189711151c9b",
   "metadata": {},
   "outputs": [
    {
     "name": "stdout",
     "output_type": "stream",
     "text": [
      "{'h': 1, 'e': 1, 'l': 3, 'o': 2, 'w': 1, 'r': 1, 'd': 1}\n"
     ]
    }
   ],
   "source": [
    "# 59) Write a Python program to create a dictionary from a string. Note: Track the count of the letters from the string. \n",
    "\n",
    "my_string = \"hello world\"\n",
    "\n",
    "letter_count = {}\n",
    "\n",
    "for letter in my_string:\n",
    "    if letter != \" \":  \n",
    "        if letter in letter_count:\n",
    "            letter_count[letter] += 1 \n",
    "        else:\n",
    "            letter_count[letter] = 1  \n",
    "\n",
    "print(letter_count)"
   ]
  },
  {
   "cell_type": "code",
   "execution_count": 72,
   "id": "a8d001d8-398d-4fb2-9bdc-57167d20759c",
   "metadata": {},
   "outputs": [
    {
     "name": "stdout",
     "output_type": "stream",
     "text": [
      "{'w': 1, '3': 1, 'r': 2, 'e': 2, 's': 1, 'o': 1, 'u': 1, 'c': 1}\n"
     ]
    }
   ],
   "source": [
    "\"\"\" # 60) Sample string:\n",
    " 'w3resource' Expected output: \n",
    "• {'3': 1,’s’: 1, 'r': 2, 'u': 1, 'w': 1, 'c': 1, 'e': 2, 'o': 1} \n",
    "\"\"\"\n",
    "\n",
    "sample_string = \"w3resource\"\n",
    "\n",
    "char_count = {}\n",
    "\n",
    "for char in sample_string:\n",
    "    if char in char_count:\n",
    "        char_count[char] += 1  \n",
    "    else:\n",
    "        char_count[char] = 1  \n",
    "\n",
    "print(char_count)"
   ]
  },
  {
   "cell_type": "code",
   "execution_count": 74,
   "id": "bb13961a-7750-4080-b0b5-9372c4f24c0c",
   "metadata": {},
   "outputs": [
    {
     "name": "stdout",
     "output_type": "stream",
     "text": [
      "The factorial of 5 is 120\n"
     ]
    }
   ],
   "source": [
    "# 61) Write a Python function to calculate the factorial of a number (a nonnegative integer) \n",
    "\n",
    "def calculate_factorial(n):\n",
    "    if n < 0:\n",
    "        return \"Factorial is not defined for negative numbers.\"\n",
    "    \n",
    "    factorial = 1\n",
    "    \n",
    "    for i in range(1, n + 1):\n",
    "        factorial *= i\n",
    "    \n",
    "    return factorial\n",
    "\n",
    "number = 5  \n",
    "result = calculate_factorial(number)\n",
    "print(f\"The factorial of {number} is {result}\")"
   ]
  },
  {
   "cell_type": "code",
   "execution_count": 76,
   "id": "0aead4e0-706e-4d00-92a7-6569e86acc14",
   "metadata": {},
   "outputs": [
    {
     "name": "stdout",
     "output_type": "stream",
     "text": [
      "10 is in the range 5 to 15.\n"
     ]
    }
   ],
   "source": [
    "# 62) Write a Python function to check whether a number is in a given range\n",
    "\n",
    "def is_in_range(number, start, end):\n",
    "    if start <= number <= end:\n",
    "        return True\n",
    "    else:\n",
    "        return False\n",
    "\n",
    "num = 10  \n",
    "range_start = 5\n",
    "range_end = 15\n",
    "\n",
    "if is_in_range(num, range_start, range_end):\n",
    "    print(f\"{num} is in the range {range_start} to {range_end}.\")\n",
    "else:\n",
    "    print(f\"{num} is not in the range {range_start} to {range_end}.\")"
   ]
  },
  {
   "cell_type": "code",
   "execution_count": 86,
   "id": "a5b3c6f6-da4b-4c50-a5f0-805d5314816d",
   "metadata": {},
   "outputs": [
    {
     "name": "stdout",
     "output_type": "stream",
     "text": [
      "28 is a perfect number.\n"
     ]
    }
   ],
   "source": [
    "# 63) Write a Python function to check whether a number is perfect or not. \n",
    "\n",
    "def is_perfect_number(number):\n",
    "    \n",
    "    divisors = [i for i in range(1, number) if number % i == 0]\n",
    "    \n",
    "    total = sum(divisors)\n",
    "    \n",
    "    if total == number:\n",
    "        return True\n",
    "    else:\n",
    "        return False\n",
    "\n",
    "num = 28  \n",
    "if is_perfect_number(num):\n",
    "    print(f\"{num} is a perfect number.\")\n",
    "else:\n",
    "    print(f\"{num} is not a perfect number.\")"
   ]
  },
  {
   "cell_type": "code",
   "execution_count": 88,
   "id": "a78a7e09-c326-4911-904d-4517f58ef24a",
   "metadata": {},
   "outputs": [
    {
     "name": "stdout",
     "output_type": "stream",
     "text": [
      "'madam' is a palindrome.\n"
     ]
    }
   ],
   "source": [
    "# 64) Write a Python function that checks whether a passed string is palindrome or not \n",
    "\n",
    "def is_palindrome(text):\n",
    "    \n",
    "    text = text.replace(\" \", \"\").lower()\n",
    "    \n",
    "    if text == text[::-1]:\n",
    "        return True\n",
    "    else:\n",
    "        return False\n",
    "\n",
    "word = \"madam\"  \n",
    "if is_palindrome(word):\n",
    "    print(f\"'{word}' is a palindrome.\")\n",
    "else:\n",
    "    print(f\"'{word}' is not a palindrome.\")"
   ]
  },
  {
   "cell_type": "code",
   "execution_count": null,
   "id": "1b1bbfb1-0322-4c39-8b60-c14db10f89cb",
   "metadata": {},
   "outputs": [],
   "source": [
    "# 65) How Many Basic Types of Functions Are Available in Python? \n",
    "\"\"\"\n",
    "1) Built-in Functions: Predefined functions provided by Python (e.g., print(), len(), type()).\n",
    "3) User-defined Functions: Functions created by users using the def keyword.\n",
    "4) Lambda Functions: Anonymous, one-line functions created with the lambda keyword.\n",
    "5) Recursive Functions: Functions that call themselves to solve smaller instances of a problem.\n",
    "\"\"\""
   ]
  },
  {
   "cell_type": "code",
   "execution_count": 92,
   "id": "b0b75e14-81b4-47c0-a69e-e51c4871d671",
   "metadata": {},
   "outputs": [
    {
     "name": "stdout",
     "output_type": "stream",
     "text": [
      "5\n"
     ]
    }
   ],
   "source": [
    "# 66) How can you pick a random item from a list or tuple? \n",
    "\n",
    "import random\n",
    "\n",
    "my_list = [1, 2, 3, 4, 5]\n",
    "random_item = random.choice(my_list)\n",
    "print(random_item)"
   ]
  },
  {
   "cell_type": "code",
   "execution_count": 96,
   "id": "2f1a91a3-9541-4536-9e5c-0652e5fc091d",
   "metadata": {},
   "outputs": [
    {
     "name": "stdout",
     "output_type": "stream",
     "text": [
      "8\n"
     ]
    }
   ],
   "source": [
    "# 67) How can you pick a random item from a range? \n",
    "\n",
    "import random\n",
    "\n",
    "random_item = random.choice(range(1, 11))  \n",
    "print(random_item)"
   ]
  },
  {
   "cell_type": "code",
   "execution_count": 100,
   "id": "6a955c43-f117-4c73-8d4a-ee044e5c58a2",
   "metadata": {},
   "outputs": [
    {
     "name": "stdout",
     "output_type": "stream",
     "text": [
      "9\n"
     ]
    }
   ],
   "source": [
    "# 68) How can you get a random number in python?\n",
    "\n",
    "import random\n",
    "random_number = random.randint(1, 10) \n",
    "print(random_number)"
   ]
  },
  {
   "cell_type": "code",
   "execution_count": 102,
   "id": "94f0ec84-477c-424a-bcd4-583b32b33a03",
   "metadata": {},
   "outputs": [
    {
     "name": "stdout",
     "output_type": "stream",
     "text": [
      "2\n"
     ]
    }
   ],
   "source": [
    "# 69) How will you set the starting value in generating random numbers?\n",
    "\n",
    "import random\n",
    "\n",
    "# Set the starting seed value\n",
    "random.seed(42)  # 42 is an arbitrary choice for this example\n",
    "\n",
    "# Generate random numbers\n",
    "print(random.randint(1, 10))"
   ]
  },
  {
   "cell_type": "code",
   "execution_count": 104,
   "id": "caab4448-2840-4818-b394-dfe0a9dc99b3",
   "metadata": {},
   "outputs": [
    {
     "name": "stdout",
     "output_type": "stream",
     "text": [
      "[2, 4, 5, 3, 1]\n"
     ]
    }
   ],
   "source": [
    "# 70) How will you randomize the items of a list in place?\n",
    "\n",
    "import random\n",
    "\n",
    "my_list = [1, 2, 3, 4, 5]\n",
    "\n",
    "random.shuffle(my_list)\n",
    "\n",
    "print(my_list)"
   ]
  },
  {
   "cell_type": "code",
   "execution_count": null,
   "id": "4a86ff5e-9b00-44dc-a8f6-c1c5f501f702",
   "metadata": {},
   "outputs": [],
   "source": [
    "# 71) What is File function in python? What are keywords to create and write file.\n",
    "\n",
    "\"\"\"\n",
    "In Python, the file function refers to the built-in functions that allow you to work with files,\n",
    "such as opening, reading, writing, and closing files. These functions help you interact with files stored on your computer.\n",
    "File Modes in Python\n",
    "'r' – Read mode (default): Opens the file for reading.\n",
    "'w' – Write mode: Opens the file for writing (creates a new file or overwrites an existing file).\n",
    "'a' – Append mode: Opens the file for writing, but data is added to the end (it does not overwrite).\n",
    "'b' – Binary mode: Opens the file in binary format (e.g., for images, audio).\n",
    "\"\"\""
   ]
  },
  {
   "cell_type": "code",
   "execution_count": 108,
   "id": "cd6e2dbc-44e6-4a21-bbab-42f49d2efa98",
   "metadata": {},
   "outputs": [],
   "source": [
    "# 72) Write a Python program to read an entire text file. \n",
    "\n",
    "\"\"\"\n",
    "with open('example.txt', 'r') as file:\n",
    "    # Read the entire contents of the file\n",
    "    content = file.read()\n",
    "\n",
    "# Print the contents of the file\n",
    "print(content)\n",
    "\"\"\"\n"
   ]
  },
  {
   "cell_type": "code",
   "execution_count": null,
   "id": "65dc1244-b3bb-421f-b0d4-f9c1b5e4e964",
   "metadata": {},
   "outputs": [],
   "source": [
    "# 73) Write a Python program to append text to a file and display the text. \n",
    "\n",
    "\"\"\"\n",
    "with open('example.txt', 'a') as file:\n",
    "\n",
    "    file.write(\"\\nThis is the new text added to the file.\")\n",
    "\n",
    "with open('example.txt', 'r') as file:\n",
    "    content = file.read()\n",
    "    print(content)\n",
    "\"\"\""
   ]
  },
  {
   "cell_type": "code",
   "execution_count": null,
   "id": "908e5232-1bdc-41ce-a8a4-e184bf945e24",
   "metadata": {},
   "outputs": [],
   "source": [
    "# 74) Write a Python program to read first n lines of a file. \n",
    "\n",
    "\"\"\"\n",
    "n = 5 \n",
    "\n",
    "with open('example.txt', 'r') as file:\n",
    "    \n",
    "    for i in range(n):\n",
    "        line = file.readline()\n",
    "        if line:  \n",
    "            print(line, end='')  \n",
    "        else:\n",
    "            break  \n",
    "\"\"\"            \n"
   ]
  },
  {
   "cell_type": "code",
   "execution_count": null,
   "id": "f6ee39f4-e748-412a-98df-5dc3e037101f",
   "metadata": {},
   "outputs": [],
   "source": [
    "# 75) Write a Python program to read last n lines of a file. \n",
    "\n",
    "\"\"\"\n",
    "n = 5  # You can change this value to the number of lines you want\n",
    "\n",
    "with open('example.txt', 'r') as file:\n",
    "    \n",
    "    lines = file.readlines()\n",
    "\n",
    "    last_n_lines = lines[-n:]\n",
    "\n",
    "for line in last_n_lines:\n",
    "    print(line, end='')\n",
    "\"\"\"    \n"
   ]
  },
  {
   "cell_type": "code",
   "execution_count": null,
   "id": "e994e48e-f5c3-45ee-9646-2279b4e17e02",
   "metadata": {},
   "outputs": [],
   "source": [
    "# 76) Write a Python program to read a file line by line and store it into a list \n",
    "\n",
    "\"\"\"\n",
    "with open('example.txt', 'r') as file:\n",
    "    \n",
    "    lines = file.readlines()\n",
    "\n",
    "print(lines)\n",
    "\"\"\""
   ]
  },
  {
   "cell_type": "code",
   "execution_count": null,
   "id": "ec51511e-6969-40af-b7d3-6dd18e78c835",
   "metadata": {},
   "outputs": [],
   "source": [
    "# 77) Write a Python program to read a file line by line store it into a variable. \n",
    "\n",
    "\"\"\"\n",
    "with open('example.txt', 'r') as file:\n",
    "    \n",
    "    content = file.read()\n",
    "\n",
    "print(content)\n",
    "\"\"\"\n"
   ]
  },
  {
   "cell_type": "code",
   "execution_count": 114,
   "id": "2074bded-edd1-4950-a96b-d6f555376447",
   "metadata": {},
   "outputs": [
    {
     "name": "stdout",
     "output_type": "stream",
     "text": [
      "The longest word is: example\n"
     ]
    }
   ],
   "source": [
    "# 78) Write a python program to find the longest words. \n",
    "\n",
    "text = \"This is an example of finding the longest word.\"\n",
    "\n",
    "words = text.split()\n",
    "\n",
    "longest_word = max(words, key=len)\n",
    "\n",
    "print(\"The longest word is:\", longest_word)"
   ]
  },
  {
   "cell_type": "code",
   "execution_count": null,
   "id": "c63bd662-2fb6-4b1b-a61e-f08b0c46db76",
   "metadata": {},
   "outputs": [],
   "source": [
    "# 79) Write a Python program to count the number of lines in a text file. \n",
    "\n",
    "\"\"\"\n",
    "with open('example.txt', 'r') as file:\n",
    "\n",
    "    line_count = sum(1 for line in file)\n",
    "\n",
    "print(\"The number of lines in the file is:\", line_count)\n",
    "\"\"\""
   ]
  },
  {
   "cell_type": "code",
   "execution_count": null,
   "id": "16d632d4-a1f9-4358-a185-1ef1633275a9",
   "metadata": {},
   "outputs": [],
   "source": [
    "# 80) Write a Python program to count the frequency of words in a file. \n",
    "\n",
    "\"\"\"\n",
    "with open('example.txt', 'r') as file:\n",
    "    \n",
    "    content = file.read()\n",
    "\n",
    "words = content.split()\n",
    "\n",
    "word_count = {}\n",
    "\n",
    "for word in words:\n",
    "    \n",
    "    word = word.lower()\n",
    "    \n",
    "    if word in word_count:\n",
    "        word_count[word] += 1\n",
    "    else:\n",
    "        word_count[word] = 1\n",
    "\n",
    "for word, count in word_count.items():\n",
    "    print(f\"'{word}': {count}\")\n",
    "\"\"\"    "
   ]
  },
  {
   "cell_type": "code",
   "execution_count": null,
   "id": "5dc05a9c-73da-4c77-8f46-25659f5f5d3e",
   "metadata": {},
   "outputs": [],
   "source": [
    "# 81) Write a Python program to write a list to a file. \n",
    "\n",
    "\"\"\"\n",
    "my_list = [\"apple\", \"banana\", \"cherry\", \"date\"]\n",
    "with open('example.txt', 'w') as file:\n",
    "    for item in my_list:\n",
    "        file.write(item + \"\\n\") \n",
    "print(\"List has been written to the file.\")\n",
    "\"\"\""
   ]
  },
  {
   "cell_type": "code",
   "execution_count": null,
   "id": "54a1025e-2193-4d74-9409-8a649552b032",
   "metadata": {},
   "outputs": [],
   "source": [
    "# 82) Write a Python program to copy the contents of a file to another file. \n",
    "\n",
    "\"\"\"\n",
    "with open('source.txt', 'r') as source_file, open('destination.txt', 'w') as dest_file:\n",
    "    \n",
    "    content = source_file.read()\n",
    "\n",
    "    dest_file.write(content)\n",
    "\n",
    "print(\"Contents have been copied to the destination file.\")\n",
    "\"\"\"\n"
   ]
  },
  {
   "cell_type": "code",
   "execution_count": null,
   "id": "5907f89d-c6a9-4730-b146-f6f1c035abdc",
   "metadata": {},
   "outputs": [],
   "source": [
    "# 83) Explain Exception handling? What is an Error in Python? \n",
    "\n",
    "\"\"\"\n",
    "Exception Handling in Python:\n",
    "Exception handling in Python allows you to deal with errors gracefully without crashing the program. \n",
    "It is done using try, except, else, and finally blocks.\n",
    "\n",
    "    try: Code that might raise an error.\n",
    "    except: Code that runs if an error occurs in the try block.\n",
    "    else: Code that runs if no error occurs in the try block.\n",
    "    finally: Code that always runs, regardless of whether an error occurred.\n",
    "\n",
    "\n",
    "Error in Python:\n",
    "An error in Python is an issue that occurs during the execution of a program,\n",
    "leading to incorrect results or stopping the program entirely. There are two main types of errors:\n",
    "\n",
    "Syntax Errors: Occur when there’s a mistake in the structure of the code (e.g., missing parentheses).\n",
    "Exceptions: Occur during program execution (e.g., division by zero, file not found). \n",
    "Exceptions can be caught and handled using try and except.\n",
    "\n",
    "\"\"\""
   ]
  },
  {
   "cell_type": "code",
   "execution_count": null,
   "id": "9df27aed-fbf2-4ad9-b72e-17485d663a51",
   "metadata": {},
   "outputs": [],
   "source": [
    "# 84) How many except statements can a try-except block have? Name Some built-in exception classes:\n",
    "\n",
    "\"\"\"\n",
    "A try-except block can have multiple except statements. \n",
    "This allows you to handle different types of errors separately. \n",
    "You can write as many except blocks as needed, each for a different type of error. \n",
    "If the try block raises an error, Python will check each except block to see if it matches the type of error.\n",
    "\n",
    "Some Built-in Exception Classes:\n",
    "1) ValueError\n",
    "2) Zero Division Error\n",
    "3) File Not Found Error\n",
    "4) Index Error\n",
    "5) Key Error\n",
    "\"\"\""
   ]
  },
  {
   "cell_type": "code",
   "execution_count": null,
   "id": "1f16b329-7d30-465b-9541-48e684274ae3",
   "metadata": {},
   "outputs": [],
   "source": [
    "# 85) When will the else part of try-except-else be executed? \n",
    "\n",
    "\"\"\"\n",
    "The else part of a try-except-else block will be executed only if no exception occurs in the try block.\n",
    "\n",
    "Here’s how it works:\n",
    "\n",
    "try: Python runs the code inside the try block.\n",
    "except: If an error occurs in the try block, Python jumps to the except block to handle the error.\n",
    "else: If no error occurs in the try block, Python skips the except block and runs the else block.\n",
    "\n",
    "\"\"\"\"\n"
   ]
  },
  {
   "cell_type": "code",
   "execution_count": null,
   "id": "180c5029-2646-4f00-a901-f268defaf968",
   "metadata": {},
   "outputs": [],
   "source": [
    "# 86) Can one block of except statements handle multiple exception? \n",
    "\n",
    "\"\"\"\n",
    "Yes, one except block can handle multiple exceptions by specifying them in a tuple. \n",
    "This allows you to catch different types of errors with a single except block\n",
    "\"\"\""
   ]
  },
  {
   "cell_type": "code",
   "execution_count": null,
   "id": "0e2eec8d-18be-4935-b262-0521e294f0f6",
   "metadata": {},
   "outputs": [],
   "source": [
    "# 87) When is the finally block executed? \n",
    "\n",
    "\"\"\"\n",
    "The finally block is always executed no matter what happens in the try and except blocks. \n",
    "It runs after the try block, and even if an exception is raised (or not), the finally block will execute.\n",
    "\"\"\"\n"
   ]
  },
  {
   "cell_type": "code",
   "execution_count": null,
   "id": "2ea73608-d205-4462-a233-f91397ce2ad7",
   "metadata": {},
   "outputs": [],
   "source": [
    "# 88) What happens when „1‟== 1 is executed? \n",
    "\n",
    "\"\"\"\n",
    "When the expression '1' == 1 is executed, Python will compare the string '1' with the integer 1. \n",
    "Since a string and an integer are different types, Python will return False because they are not equal.\n",
    "\"\"\"\n"
   ]
  },
  {
   "cell_type": "code",
   "execution_count": null,
   "id": "000b1e99-120c-4848-8aac-0b97e9a06fbf",
   "metadata": {},
   "outputs": [],
   "source": [
    "# 89) How Do You Handle Exceptions with Try/Except/Finally in Python? Explain with coding snippets.\n",
    "\n",
    "\"\"\"\n",
    "In Python, you handle exceptions using try, except, and finally blocks. Here’s a simple explanation of how each part works:\n",
    "\n",
    "try block: You write the code that might cause an error in this block.\n",
    "except block: If an error occurs in the try block, Python jumps to this block to handle the error.\n",
    "finally block: This block runs no matter what—whether an error occurred or not. It's useful for cleanup actions, like closing a file.\n",
    "\n",
    "\"\"\"\n",
    "\n"
   ]
  },
  {
   "cell_type": "code",
   "execution_count": 116,
   "id": "dc511e69-f31b-4813-b352-262df625ca55",
   "metadata": {},
   "outputs": [
    {
     "name": "stdin",
     "output_type": "stream",
     "text": [
      "Enter an odd number:  11\n"
     ]
    },
    {
     "name": "stdout",
     "output_type": "stream",
     "text": [
      "Thank you for entering an odd number!\n"
     ]
    }
   ],
   "source": [
    "# 90) Write python program that user to enter only odd numbers, else will raise an exception. \n",
    "\n",
    "try:\n",
    "    \n",
    "    number = int(input(\"Enter an odd number: \"))\n",
    "\n",
    "    if number % 2 == 0:\n",
    "        raise ValueError(\"That's an even number! Please enter an odd number.\")\n",
    "    else:\n",
    "        print(\"Thank you for entering an odd number!\")\n",
    "\n",
    "except ValueError as e:\n",
    "    print(f\"Error: {e}\")"
   ]
  },
  {
   "cell_type": "code",
   "execution_count": null,
   "id": "bf4f4d23-e255-486d-bfdf-ac571a3c004b",
   "metadata": {},
   "outputs": [],
   "source": []
  }
 ],
 "metadata": {
  "kernelspec": {
   "display_name": "Python 3 (ipykernel)",
   "language": "python",
   "name": "python3"
  },
  "language_info": {
   "codemirror_mode": {
    "name": "ipython",
    "version": 3
   },
   "file_extension": ".py",
   "mimetype": "text/x-python",
   "name": "python",
   "nbconvert_exporter": "python",
   "pygments_lexer": "ipython3",
   "version": "3.12.7"
  }
 },
 "nbformat": 4,
 "nbformat_minor": 5
}
